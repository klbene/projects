{
 "cells": [
  {
   "cell_type": "markdown",
   "id": "ad7af381",
   "metadata": {},
   "source": [
    "#### Scenario\n",
    "Your IT organization is responsible for patching and remediating critical vulnerabities in the Enterprise Environment. There are just too many CVEs in queue to handle all with an SLA of 7 days to patch. When done manually, IT has to lookup every CVE in the company software inventory database and determine if the vulnerable software even exists in the environment. \n",
    "\n",
    "#### Objective\n",
    "Help the IT team streamline its efforts using a risk and data-driven approach. Alert IT when over the last 24 hours:\n",
    "\n",
    "* A CRITICAL CVE is created or upgraded with an OVERALL CVSS3 SCORE > 7.0 AND matches a product in Enterprise asset database.  [Critical New]\n",
    "* An existing critical vulnerability upgraded with an even higher score. Include a summary of the changes. [Critical Upgrade]\n",
    "* A critical CVE is updated but the score remains the same. Include a summary of changes. [Informational]\n",
    "* A previously critical vulnerability is downgraded below 7.0. [Informational] \n",
    "\n",
    "\n",
    "##### Create a dashboard with:\n",
    "Situational Awareness Stats\n",
    "* Count of critical vulnerabilities \n",
    "* Count of critical vulerabilities by CVSS key factors (Privileges Required MPR and Attack Complexity MAC)\n",
    "\n",
    "Priority Queue\n",
    "* Count of tickets by #days old\n",
    "* Prioritized list of CVE tickets - how should we \"prioritize\"?\n",
    "\n",
    "Opeartional KPIs\n",
    "* Mean Time to Remediation\n",
    "* Std Time to Remediation\n",
    "\n",
    "\n",
    "#### Automate the following tasks\n",
    "1) Retrieve information about CVEs created or updated in the last 24 hours with an OVERALL CVSS3 score > 7.0. Use the NVD API: \n",
    "\n",
    "        https://nvd.nist.gov/developers/vulnerabilities\n",
    "\n",
    "2) Filter for CVEs matching software in the Enterprise environment using CPE. Use the sql database created in cell #2 below. The database contains a table products with: \n",
    "        \n",
    "        CPE, last verfication timestamp, and owner\n",
    "\n",
    "3) Create a new table and a new record for every new critical CVE matching an asset with: \n",
    "        \n",
    "        CVE, CPE, creation date, last modified date, scores, remediation status, closure timestamp, \n",
    "        and any other data you find useful for IT available in NVD. \n",
    "\n",
    "4) Generate alerts described above.\n",
    "\n",
    "5) Create a dashboard described above."
   ]
  },
  {
   "cell_type": "code",
   "execution_count": 1,
   "id": "8b35eecb",
   "metadata": {},
   "outputs": [],
   "source": [
    "import requests\n",
    "import mysql.connector\n",
    "import pandas as pd"
   ]
  },
  {
   "cell_type": "code",
   "execution_count": 2,
   "id": "9733a1f7",
   "metadata": {},
   "outputs": [
    {
     "name": "stdout",
     "output_type": "stream",
     "text": [
      "<Response [200]>\n"
     ]
    }
   ],
   "source": [
    "res = requests.get(\"https://www.google.com\")\n",
    "print(res)"
   ]
  },
  {
   "cell_type": "code",
   "execution_count": null,
   "id": "982d5860",
   "metadata": {},
   "outputs": [],
   "source": []
  }
 ],
 "metadata": {
  "kernelspec": {
   "display_name": "Python 3 (ipykernel)",
   "language": "python",
   "name": "python3"
  },
  "language_info": {
   "codemirror_mode": {
    "name": "ipython",
    "version": 3
   },
   "file_extension": ".py",
   "mimetype": "text/x-python",
   "name": "python",
   "nbconvert_exporter": "python",
   "pygments_lexer": "ipython3",
   "version": "3.9.13"
  }
 },
 "nbformat": 4,
 "nbformat_minor": 5
}
